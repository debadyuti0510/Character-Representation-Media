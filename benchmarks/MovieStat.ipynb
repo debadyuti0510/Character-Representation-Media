{
  "cells": [
    {
      "cell_type": "code",
      "execution_count": 1,
      "metadata": {
        "id": "5LoJvBiv8VKR"
      },
      "outputs": [],
      "source": [
        "import pandas as pd"
      ]
    },
    {
      "cell_type": "code",
      "execution_count": null,
      "metadata": {
        "id": "aRkcYzzZ8k3z"
      },
      "outputs": [],
      "source": []
    },
    {
      "cell_type": "code",
      "execution_count": 2,
      "metadata": {
        "id": "V3ml9Wpv8ldk"
      },
      "outputs": [],
      "source": [
        "bp_df = pd.read_csv(\"black_panther_demography.csv\")\n",
        "mm_df = pd.read_csv(\"mama_mia_demography.csv\")\n",
        "mg_df = pd.read_csv(\"marigold_demography.csv\")"
      ]
    },
    {
      "cell_type": "code",
      "execution_count": 3,
      "metadata": {
        "id": "YUmo72P29kQQ"
      },
      "outputs": [
        {
          "data": {
            "text/html": [
              "<div>\n",
              "<style scoped>\n",
              "    .dataframe tbody tr th:only-of-type {\n",
              "        vertical-align: middle;\n",
              "    }\n",
              "\n",
              "    .dataframe tbody tr th {\n",
              "        vertical-align: top;\n",
              "    }\n",
              "\n",
              "    .dataframe thead th {\n",
              "        text-align: right;\n",
              "    }\n",
              "</style>\n",
              "<table border=\"1\" class=\"dataframe\">\n",
              "  <thead>\n",
              "    <tr style=\"text-align: right;\">\n",
              "      <th></th>\n",
              "      <th>Unnamed: 0</th>\n",
              "      <th>frame_id</th>\n",
              "      <th>face_id</th>\n",
              "      <th>dominant_gender</th>\n",
              "      <th>gender</th>\n",
              "      <th>dominant_age</th>\n",
              "      <th>age</th>\n",
              "      <th>age_group</th>\n",
              "      <th>max_sum_age</th>\n",
              "      <th>direct_age_group</th>\n",
              "    </tr>\n",
              "  </thead>\n",
              "  <tbody>\n",
              "    <tr>\n",
              "      <th>0</th>\n",
              "      <td>0</td>\n",
              "      <td>100110</td>\n",
              "      <td>0</td>\n",
              "      <td>Male</td>\n",
              "      <td>{'Male': 0.9920753841150352, 'Female': 0.00792...</td>\n",
              "      <td>30-39</td>\n",
              "      <td>{'0-2': 3.4232753184749175e-05, '3-9': 0.00017...</td>\n",
              "      <td>Up to 50</td>\n",
              "      <td>{'Over 50': 0.05345732483207938, 'Up to 50': 0...</td>\n",
              "      <td>Up to 50</td>\n",
              "    </tr>\n",
              "    <tr>\n",
              "      <th>1</th>\n",
              "      <td>1</td>\n",
              "      <td>100575</td>\n",
              "      <td>0</td>\n",
              "      <td>Female</td>\n",
              "      <td>{'Male': 0.010963938539222284, 'Female': 0.989...</td>\n",
              "      <td>20-29</td>\n",
              "      <td>{'0-2': 0.00012895599167318044, '3-9': 0.00565...</td>\n",
              "      <td>Up to 50</td>\n",
              "      <td>{'Over 50': 0.006015268265564788, 'Up to 50': ...</td>\n",
              "      <td>Up to 50</td>\n",
              "    </tr>\n",
              "    <tr>\n",
              "      <th>2</th>\n",
              "      <td>2</td>\n",
              "      <td>100595</td>\n",
              "      <td>0</td>\n",
              "      <td>Female</td>\n",
              "      <td>{'Male': 0.004731579353561055, 'Female': 0.995...</td>\n",
              "      <td>10-19</td>\n",
              "      <td>{'0-2': 6.599179871213481e-05, '3-9': 0.211193...</td>\n",
              "      <td>Up to 50</td>\n",
              "      <td>{'Over 50': 9.935110876290853e-06, 'Up to 50':...</td>\n",
              "      <td>Up to 50</td>\n",
              "    </tr>\n",
              "    <tr>\n",
              "      <th>3</th>\n",
              "      <td>3</td>\n",
              "      <td>100600</td>\n",
              "      <td>0</td>\n",
              "      <td>Female</td>\n",
              "      <td>{'Male': 0.003922197092231738, 'Female': 0.996...</td>\n",
              "      <td>10-19</td>\n",
              "      <td>{'0-2': 6.119585866452785e-05, '3-9': 0.013567...</td>\n",
              "      <td>Up to 50</td>\n",
              "      <td>{'Over 50': 0.0007246386262345304, 'Up to 50':...</td>\n",
              "      <td>Up to 50</td>\n",
              "    </tr>\n",
              "    <tr>\n",
              "      <th>4</th>\n",
              "      <td>4</td>\n",
              "      <td>100625</td>\n",
              "      <td>0</td>\n",
              "      <td>Female</td>\n",
              "      <td>{'Male': 0.0022868266729261233, 'Female': 0.99...</td>\n",
              "      <td>20-29</td>\n",
              "      <td>{'0-2': 0.00011796324374731946, '3-9': 0.00487...</td>\n",
              "      <td>Up to 50</td>\n",
              "      <td>{'Over 50': 0.0009160332992345076, 'Up to 50':...</td>\n",
              "      <td>Up to 50</td>\n",
              "    </tr>\n",
              "    <tr>\n",
              "      <th>...</th>\n",
              "      <td>...</td>\n",
              "      <td>...</td>\n",
              "      <td>...</td>\n",
              "      <td>...</td>\n",
              "      <td>...</td>\n",
              "      <td>...</td>\n",
              "      <td>...</td>\n",
              "      <td>...</td>\n",
              "      <td>...</td>\n",
              "      <td>...</td>\n",
              "    </tr>\n",
              "    <tr>\n",
              "      <th>2673</th>\n",
              "      <td>2673</td>\n",
              "      <td>99095</td>\n",
              "      <td>0</td>\n",
              "      <td>Male</td>\n",
              "      <td>{'Male': 0.9750454987649341, 'Female': 0.02495...</td>\n",
              "      <td>30-39</td>\n",
              "      <td>{'0-2': 0.0026598540678559454, '3-9': 0.000665...</td>\n",
              "      <td>Up to 50</td>\n",
              "      <td>{'Over 50': 0.08177138742157616, 'Up to 50': 0...</td>\n",
              "      <td>Up to 50</td>\n",
              "    </tr>\n",
              "    <tr>\n",
              "      <th>2674</th>\n",
              "      <td>2674</td>\n",
              "      <td>99100</td>\n",
              "      <td>0</td>\n",
              "      <td>Male</td>\n",
              "      <td>{'Male': 0.9332274908849432, 'Female': 0.06677...</td>\n",
              "      <td>30-39</td>\n",
              "      <td>{'0-2': 0.001084054675534194, '3-9': 0.0012861...</td>\n",
              "      <td>Up to 50</td>\n",
              "      <td>{'Over 50': 0.04275313336958023, 'Up to 50': 0...</td>\n",
              "      <td>Up to 50</td>\n",
              "    </tr>\n",
              "    <tr>\n",
              "      <th>2675</th>\n",
              "      <td>2675</td>\n",
              "      <td>99115</td>\n",
              "      <td>0</td>\n",
              "      <td>Male</td>\n",
              "      <td>{'Male': 0.8940419833878316, 'Female': 0.10595...</td>\n",
              "      <td>30-39</td>\n",
              "      <td>{'0-2': 0.00013931263595488982, '3-9': 0.00077...</td>\n",
              "      <td>Up to 50</td>\n",
              "      <td>{'Over 50': 0.2541982536543539, 'Up to 50': 0....</td>\n",
              "      <td>Up to 50</td>\n",
              "    </tr>\n",
              "    <tr>\n",
              "      <th>2676</th>\n",
              "      <td>2676</td>\n",
              "      <td>99120</td>\n",
              "      <td>0</td>\n",
              "      <td>Male</td>\n",
              "      <td>{'Male': 0.9508892193411166, 'Female': 0.04911...</td>\n",
              "      <td>50-59</td>\n",
              "      <td>{'0-2': 0.00012901136501672805, '3-9': 0.00020...</td>\n",
              "      <td>Over 50</td>\n",
              "      <td>{'Over 50': 0.7580021640120433, 'Up to 50': 0....</td>\n",
              "      <td>Over 50</td>\n",
              "    </tr>\n",
              "    <tr>\n",
              "      <th>2677</th>\n",
              "      <td>2677</td>\n",
              "      <td>99125</td>\n",
              "      <td>0</td>\n",
              "      <td>Male</td>\n",
              "      <td>{'Male': 0.9482140740911782, 'Female': 0.05178...</td>\n",
              "      <td>50-59</td>\n",
              "      <td>{'0-2': 7.30095314795528e-05, '3-9': 0.0005267...</td>\n",
              "      <td>Up to 50</td>\n",
              "      <td>{'Over 50': 0.40622910605189805, 'Up to 50': 0...</td>\n",
              "      <td>Over 50</td>\n",
              "    </tr>\n",
              "  </tbody>\n",
              "</table>\n",
              "<p>2678 rows × 10 columns</p>\n",
              "</div>"
            ],
            "text/plain": [
              "      Unnamed: 0  frame_id  face_id dominant_gender  \\\n",
              "0              0    100110        0            Male   \n",
              "1              1    100575        0          Female   \n",
              "2              2    100595        0          Female   \n",
              "3              3    100600        0          Female   \n",
              "4              4    100625        0          Female   \n",
              "...          ...       ...      ...             ...   \n",
              "2673        2673     99095        0            Male   \n",
              "2674        2674     99100        0            Male   \n",
              "2675        2675     99115        0            Male   \n",
              "2676        2676     99120        0            Male   \n",
              "2677        2677     99125        0            Male   \n",
              "\n",
              "                                                 gender dominant_age  \\\n",
              "0     {'Male': 0.9920753841150352, 'Female': 0.00792...        30-39   \n",
              "1     {'Male': 0.010963938539222284, 'Female': 0.989...        20-29   \n",
              "2     {'Male': 0.004731579353561055, 'Female': 0.995...        10-19   \n",
              "3     {'Male': 0.003922197092231738, 'Female': 0.996...        10-19   \n",
              "4     {'Male': 0.0022868266729261233, 'Female': 0.99...        20-29   \n",
              "...                                                 ...          ...   \n",
              "2673  {'Male': 0.9750454987649341, 'Female': 0.02495...        30-39   \n",
              "2674  {'Male': 0.9332274908849432, 'Female': 0.06677...        30-39   \n",
              "2675  {'Male': 0.8940419833878316, 'Female': 0.10595...        30-39   \n",
              "2676  {'Male': 0.9508892193411166, 'Female': 0.04911...        50-59   \n",
              "2677  {'Male': 0.9482140740911782, 'Female': 0.05178...        50-59   \n",
              "\n",
              "                                                    age age_group  \\\n",
              "0     {'0-2': 3.4232753184749175e-05, '3-9': 0.00017...  Up to 50   \n",
              "1     {'0-2': 0.00012895599167318044, '3-9': 0.00565...  Up to 50   \n",
              "2     {'0-2': 6.599179871213481e-05, '3-9': 0.211193...  Up to 50   \n",
              "3     {'0-2': 6.119585866452785e-05, '3-9': 0.013567...  Up to 50   \n",
              "4     {'0-2': 0.00011796324374731946, '3-9': 0.00487...  Up to 50   \n",
              "...                                                 ...       ...   \n",
              "2673  {'0-2': 0.0026598540678559454, '3-9': 0.000665...  Up to 50   \n",
              "2674  {'0-2': 0.001084054675534194, '3-9': 0.0012861...  Up to 50   \n",
              "2675  {'0-2': 0.00013931263595488982, '3-9': 0.00077...  Up to 50   \n",
              "2676  {'0-2': 0.00012901136501672805, '3-9': 0.00020...   Over 50   \n",
              "2677  {'0-2': 7.30095314795528e-05, '3-9': 0.0005267...  Up to 50   \n",
              "\n",
              "                                            max_sum_age direct_age_group  \n",
              "0     {'Over 50': 0.05345732483207938, 'Up to 50': 0...         Up to 50  \n",
              "1     {'Over 50': 0.006015268265564788, 'Up to 50': ...         Up to 50  \n",
              "2     {'Over 50': 9.935110876290853e-06, 'Up to 50':...         Up to 50  \n",
              "3     {'Over 50': 0.0007246386262345304, 'Up to 50':...         Up to 50  \n",
              "4     {'Over 50': 0.0009160332992345076, 'Up to 50':...         Up to 50  \n",
              "...                                                 ...              ...  \n",
              "2673  {'Over 50': 0.08177138742157616, 'Up to 50': 0...         Up to 50  \n",
              "2674  {'Over 50': 0.04275313336958023, 'Up to 50': 0...         Up to 50  \n",
              "2675  {'Over 50': 0.2541982536543539, 'Up to 50': 0....         Up to 50  \n",
              "2676  {'Over 50': 0.7580021640120433, 'Up to 50': 0....          Over 50  \n",
              "2677  {'Over 50': 0.40622910605189805, 'Up to 50': 0...          Over 50  \n",
              "\n",
              "[2678 rows x 10 columns]"
            ]
          },
          "execution_count": 3,
          "metadata": {},
          "output_type": "execute_result"
        }
      ],
      "source": [
        "bp_df"
      ]
    },
    {
      "cell_type": "code",
      "execution_count": 4,
      "metadata": {
        "colab": {
          "base_uri": "https://localhost:8080/",
          "height": 178
        },
        "id": "goRO5OSw8x7-",
        "outputId": "77f898cf-4699-4593-bd7a-68a6f91323c3"
      },
      "outputs": [
        {
          "data": {
            "text/plain": [
              "age_group\n",
              "Up to 50    0.911128\n",
              "Over 50     0.088872\n",
              "Name: proportion, dtype: float64"
            ]
          },
          "execution_count": 4,
          "metadata": {},
          "output_type": "execute_result"
        }
      ],
      "source": [
        "bp_df.age_group.value_counts(normalize=True)"
      ]
    },
    {
      "cell_type": "code",
      "execution_count": 6,
      "metadata": {
        "colab": {
          "base_uri": "https://localhost:8080/",
          "height": 178
        },
        "id": "8BMZ5zQB9Gup",
        "outputId": "23334899-bdec-4187-ace4-729d8ac245be"
      },
      "outputs": [
        {
          "data": {
            "text/plain": [
              "age_group\n",
              "Up to 50    0.874744\n",
              "Over 50     0.125256\n",
              "Name: proportion, dtype: float64"
            ]
          },
          "execution_count": 6,
          "metadata": {},
          "output_type": "execute_result"
        }
      ],
      "source": [
        "mm_df.age_group.value_counts(normalize=True)"
      ]
    },
    {
      "cell_type": "code",
      "execution_count": 8,
      "metadata": {
        "colab": {
          "base_uri": "https://localhost:8080/",
          "height": 178
        },
        "id": "YqUHbLqz8y2g",
        "outputId": "4063a14e-82dd-4756-92d0-0bfd14589036"
      },
      "outputs": [
        {
          "data": {
            "text/plain": [
              "age_group\n",
              "Up to 50    0.537078\n",
              "Over 50     0.462922\n",
              "Name: proportion, dtype: float64"
            ]
          },
          "execution_count": 8,
          "metadata": {},
          "output_type": "execute_result"
        }
      ],
      "source": [
        "mg_df.age_group.value_counts(normalize=True)"
      ]
    },
    {
      "cell_type": "code",
      "execution_count": 11,
      "metadata": {
        "colab": {
          "base_uri": "https://localhost:8080/",
          "height": 178
        },
        "id": "9-kdvR3_9Nsa",
        "outputId": "a1cf76d7-0523-46d2-aa0d-8cacf56fbcba"
      },
      "outputs": [
        {
          "data": {
            "text/html": [
              "<div>\n",
              "<style scoped>\n",
              "    .dataframe tbody tr th:only-of-type {\n",
              "        vertical-align: middle;\n",
              "    }\n",
              "\n",
              "    .dataframe tbody tr th {\n",
              "        vertical-align: top;\n",
              "    }\n",
              "\n",
              "    .dataframe thead th {\n",
              "        text-align: right;\n",
              "    }\n",
              "</style>\n",
              "<table border=\"1\" class=\"dataframe\">\n",
              "  <thead>\n",
              "    <tr style=\"text-align: right;\">\n",
              "      <th></th>\n",
              "      <th>proportion</th>\n",
              "    </tr>\n",
              "    <tr>\n",
              "      <th>dominant_gender</th>\n",
              "      <th></th>\n",
              "    </tr>\n",
              "  </thead>\n",
              "  <tbody>\n",
              "    <tr>\n",
              "      <th>Male</th>\n",
              "      <td>0.727782</td>\n",
              "    </tr>\n",
              "    <tr>\n",
              "      <th>Female</th>\n",
              "      <td>0.272218</td>\n",
              "    </tr>\n",
              "  </tbody>\n",
              "</table>\n",
              "</div><br><label><b>dtype:</b> float64</label>"
            ],
            "text/plain": [
              "dominant_gender\n",
              "Male      0.727782\n",
              "Female    0.272218\n",
              "Name: proportion, dtype: float64"
            ]
          },
          "execution_count": 11,
          "metadata": {},
          "output_type": "execute_result"
        }
      ],
      "source": [
        "bp_df.dominant_gender.value_counts(normalize=True)"
      ]
    },
    {
      "cell_type": "code",
      "execution_count": 12,
      "metadata": {
        "colab": {
          "base_uri": "https://localhost:8080/",
          "height": 178
        },
        "id": "vRUYuyI89iqK",
        "outputId": "4c6baaee-d950-43cc-f98f-8733fc84138c"
      },
      "outputs": [
        {
          "data": {
            "text/html": [
              "<div>\n",
              "<style scoped>\n",
              "    .dataframe tbody tr th:only-of-type {\n",
              "        vertical-align: middle;\n",
              "    }\n",
              "\n",
              "    .dataframe tbody tr th {\n",
              "        vertical-align: top;\n",
              "    }\n",
              "\n",
              "    .dataframe thead th {\n",
              "        text-align: right;\n",
              "    }\n",
              "</style>\n",
              "<table border=\"1\" class=\"dataframe\">\n",
              "  <thead>\n",
              "    <tr style=\"text-align: right;\">\n",
              "      <th></th>\n",
              "      <th>proportion</th>\n",
              "    </tr>\n",
              "    <tr>\n",
              "      <th>dominant_gender</th>\n",
              "      <th></th>\n",
              "    </tr>\n",
              "  </thead>\n",
              "  <tbody>\n",
              "    <tr>\n",
              "      <th>Female</th>\n",
              "      <td>0.682987</td>\n",
              "    </tr>\n",
              "    <tr>\n",
              "      <th>Male</th>\n",
              "      <td>0.317013</td>\n",
              "    </tr>\n",
              "  </tbody>\n",
              "</table>\n",
              "</div><br><label><b>dtype:</b> float64</label>"
            ],
            "text/plain": [
              "dominant_gender\n",
              "Female    0.682987\n",
              "Male      0.317013\n",
              "Name: proportion, dtype: float64"
            ]
          },
          "execution_count": 12,
          "metadata": {},
          "output_type": "execute_result"
        }
      ],
      "source": [
        "mm_df.dominant_gender.value_counts(normalize=True)"
      ]
    },
    {
      "cell_type": "code",
      "execution_count": 13,
      "metadata": {
        "colab": {
          "base_uri": "https://localhost:8080/",
          "height": 178
        },
        "id": "NIZHSuPR9r4E",
        "outputId": "74dcde6f-3036-4b8c-9546-f5e857a6f4cd"
      },
      "outputs": [
        {
          "data": {
            "text/html": [
              "<div>\n",
              "<style scoped>\n",
              "    .dataframe tbody tr th:only-of-type {\n",
              "        vertical-align: middle;\n",
              "    }\n",
              "\n",
              "    .dataframe tbody tr th {\n",
              "        vertical-align: top;\n",
              "    }\n",
              "\n",
              "    .dataframe thead th {\n",
              "        text-align: right;\n",
              "    }\n",
              "</style>\n",
              "<table border=\"1\" class=\"dataframe\">\n",
              "  <thead>\n",
              "    <tr style=\"text-align: right;\">\n",
              "      <th></th>\n",
              "      <th>proportion</th>\n",
              "    </tr>\n",
              "    <tr>\n",
              "      <th>dominant_gender</th>\n",
              "      <th></th>\n",
              "    </tr>\n",
              "  </thead>\n",
              "  <tbody>\n",
              "    <tr>\n",
              "      <th>Female</th>\n",
              "      <td>0.666667</td>\n",
              "    </tr>\n",
              "    <tr>\n",
              "      <th>Male</th>\n",
              "      <td>0.333333</td>\n",
              "    </tr>\n",
              "  </tbody>\n",
              "</table>\n",
              "</div><br><label><b>dtype:</b> float64</label>"
            ],
            "text/plain": [
              "dominant_gender\n",
              "Female    0.666667\n",
              "Male      0.333333\n",
              "Name: proportion, dtype: float64"
            ]
          },
          "execution_count": 13,
          "metadata": {},
          "output_type": "execute_result"
        }
      ],
      "source": [
        "mg_df.dominant_gender.value_counts(normalize=True)"
      ]
    },
    {
      "cell_type": "code",
      "execution_count": null,
      "metadata": {
        "id": "RNf7rUVg9tdr"
      },
      "outputs": [],
      "source": []
    }
  ],
  "metadata": {
    "colab": {
      "provenance": []
    },
    "kernelspec": {
      "display_name": "diss_clip_env",
      "language": "python",
      "name": "python3"
    },
    "language_info": {
      "codemirror_mode": {
        "name": "ipython",
        "version": 3
      },
      "file_extension": ".py",
      "mimetype": "text/x-python",
      "name": "python",
      "nbconvert_exporter": "python",
      "pygments_lexer": "ipython3",
      "version": "3.10.14"
    }
  },
  "nbformat": 4,
  "nbformat_minor": 0
}
